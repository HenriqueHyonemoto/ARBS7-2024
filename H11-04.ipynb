{
 "cells": [
  {
   "cell_type": "code",
   "execution_count": null,
   "metadata": {},
   "outputs": [],
   "source": []
  },
  {
   "cell_type": "code",
   "execution_count": null,
   "metadata": {},
   "outputs": [],
   "source": []
  },
  {
   "cell_type": "code",
   "execution_count": null,
   "metadata": {},
   "outputs": [],
   "source": []
  },
  {
   "cell_type": "code",
   "execution_count": null,
   "metadata": {},
   "outputs": [],
   "source": []
  },
  {
   "cell_type": "code",
   "execution_count": null,
   "metadata": {},
   "outputs": [],
   "source": []
  },
  {
   "cell_type": "code",
   "execution_count": null,
   "metadata": {},
   "outputs": [],
   "source": []
  },
  {
   "cell_type": "code",
   "execution_count": 1,
   "metadata": {
    "blockly": {
     "display": true,
     "save": "<xml xmlns=\"http://www.w3.org/1999/xhtml\"><block type=\"text_print\" x=\"110\" y=\"100\"><value name=\"TEXT\"><block type=\"text\"><field name=\"TEXT\">Esse programa vai ordenar duas palavras em ordem alfabética</field></block></value><next><block type=\"variables_set\"><field name=\"VAR\">Palavra1</field><value name=\"VALUE\"><block type=\"text_prompt_ext\"><mutation type=\"TEXT\"></mutation><field name=\"TYPE\">TEXT</field><value name=\"TEXT\"><block type=\"text\"><field name=\"TEXT\">Qual a palavra 1</field></block></value></block></value><next><block type=\"variables_set\"><field name=\"VAR\">Palavra2</field><value name=\"VALUE\"><block type=\"text_prompt_ext\"><mutation type=\"TEXT\"></mutation><field name=\"TYPE\">TEXT</field><value name=\"TEXT\"><block type=\"text\"><field name=\"TEXT\">Qual a palavra 2</field></block></value></block></value><next><block type=\"controls_if\"><mutation else=\"1\"></mutation><value name=\"IF0\"><block type=\"logic_compare\"><field name=\"OP\">LT</field><value name=\"A\"><block type=\"variables_get\"><field name=\"VAR\">Palavra1</field></block></value><value name=\"B\"><block type=\"variables_get\"><field name=\"VAR\">Palavra2</field></block></value></block></value><statement name=\"DO0\"><block type=\"text_print\"><value name=\"TEXT\"><block type=\"variables_get\"><field name=\"VAR\">Palavra1</field></block></value><next><block type=\"text_print\"><value name=\"TEXT\"><block type=\"variables_get\"><field name=\"VAR\">Palavra2</field></block></value></block></next></block></statement><statement name=\"ELSE\"><block type=\"text_print\"><value name=\"TEXT\"><block type=\"variables_get\"><field name=\"VAR\">Palavra2</field></block></value><next><block type=\"text_print\"><value name=\"TEXT\"><block type=\"variables_get\"><field name=\"VAR\">Palavra1</field></block></value></block></next></block></statement></block></next></block></next></block></next></block></xml>"
    }
   },
   "outputs": [
    {
     "name": "stdout",
     "output_type": "stream",
     "text": [
      "Esse programa vai ordenar duas palavras em ordem alfabética\n",
      "Qual a palavra 1Amogus\n",
      "Qual a palavra 2Zacarias\n",
      "Amogus\n",
      "Zacarias\n"
     ]
    }
   ],
   "source": [
    "Palavra1 = None\n",
    "Palavra2 = None\n",
    "\n",
    "def text_prompt(msg):\n",
    "  try:\n",
    "    return raw_input(msg)\n",
    "  except NameError:\n",
    "    return input(msg)\n",
    "\n",
    "\n",
    "print('Esse programa vai ordenar duas palavras em ordem alfabética')\n",
    "Palavra1 = text_prompt('Qual a palavra 1')\n",
    "Palavra2 = text_prompt('Qual a palavra 2')\n",
    "if Palavra1 < Palavra2:\n",
    "  print(Palavra1)\n",
    "  print(Palavra2)\n",
    "else:\n",
    "  print(Palavra2)\n",
    "  print(Palavra1)\n"
   ]
  },
  {
   "cell_type": "code",
   "execution_count": 2,
   "metadata": {},
   "outputs": [
    {
     "name": "stdout",
     "output_type": "stream",
     "text": [
      "Guess My Number Between 1 and 1000: 7\n",
      "Higher!\n",
      "Guess My Number Between 1 and 1000: 100\n",
      "Higher!\n",
      "Guess My Number Between 1 and 1000: 200\n",
      "Higher!\n",
      "Guess My Number Between 1 and 1000: 300\n",
      "Higher!\n",
      "Guess My Number Between 1 and 1000: 400\n",
      "Higher!\n",
      "Guess My Number Between 1 and 1000: 500\n",
      "Lower!\n",
      "Guess My Number Between 1 and 1000: 450\n",
      "Higher!\n",
      "Guess My Number Between 1 and 1000: 460\n",
      "Higher!\n",
      "Guess My Number Between 1 and 1000: 470\n",
      "Higher!\n",
      "Guess My Number Between 1 and 1000: 480\n",
      "Lower!\n",
      "Guess My Number Between 1 and 1000: 475\n",
      "Higher!\n",
      "Guess My Number Between 1 and 1000: 476\n",
      "Correct! 12 tries.\n"
     ]
    }
   ],
   "source": [
    "import random, math\n",
    "random.seed()\n",
    "x = math.floor(random.random()*1000)+1\n",
    "z = 0\n",
    "b = 0\n",
    "while x != z:\n",
    " b=b+1\n",
    " z = int(input(\"Guess My Number Between 1 and 1000: \"))\n",
    " if z < x:\n",
    "      print(\"Higher!\")\n",
    " if z > x:\n",
    "      print(\"Lower!\")\n",
    "print(\"Correct! \" + str(b) + \" tries.\")"
   ]
  },
  {
   "cell_type": "code",
   "execution_count": 3,
   "metadata": {
    "blockly": {
     "display": true,
     "save": "<xml xmlns=\"http://www.w3.org/1999/xhtml\"><block type=\"text_print\" x=\"46\" y=\"55\"><value name=\"TEXT\"><block type=\"text\"><field name=\"TEXT\">Led Pin 17 deve piscar</field></block></value><next><block type=\"gpio_setmode\"><field name=\"mode\">GPIO.BCM</field><next><block type=\"gpio_setup\"><field name=\"mode\">GPIO.OUT</field><value name=\"channel\"><block type=\"math_number\"><field name=\"NUM\">17</field></block></value><next><block type=\"controls_whileUntil\"><field name=\"MODE\">WHILE</field><value name=\"BOOL\"><block type=\"logic_boolean\"><field name=\"BOOL\">TRUE</field></block></value><statement name=\"DO\"><block type=\"gpio_output\"><value name=\"channel\"><block type=\"math_number\"><field name=\"NUM\">17</field></block></value><value name=\"state\"><block type=\"logic_boolean\"><field name=\"BOOL\">TRUE</field></block></value><next><block type=\"time_sleep\"><value name=\"seconds\"><block type=\"math_number\"><field name=\"NUM\">0.1</field></block></value><next><block type=\"gpio_output\"><value name=\"channel\"><block type=\"math_number\"><field name=\"NUM\">17</field></block></value><value name=\"state\"><block type=\"logic_boolean\"><field name=\"BOOL\">FALSE</field></block></value><next><block type=\"time_sleep\"><value name=\"seconds\"><block type=\"math_number\"><field name=\"NUM\">0.1</field></block></value></block></next></block></next></block></next></block></statement></block></next></block></next></block></next></block></xml>"
    }
   },
   "outputs": [
    {
     "name": "stdout",
     "output_type": "stream",
     "text": [
      "Led Pin 17 deve piscar\n"
     ]
    },
    {
     "ename": "KeyboardInterrupt",
     "evalue": "",
     "output_type": "error",
     "traceback": [
      "\u001b[0;31m---------------------------------------------------------------------------\u001b[0m",
      "\u001b[0;31mKeyboardInterrupt\u001b[0m                         Traceback (most recent call last)",
      "\u001b[0;32m<ipython-input-3-ec2a6f8a0fbf>\u001b[0m in \u001b[0;36m<module>\u001b[0;34m\u001b[0m\n\u001b[1;32m     11\u001b[0m   \u001b[0msleep\u001b[0m\u001b[0;34m(\u001b[0m\u001b[0;36m0.1\u001b[0m\u001b[0;34m)\u001b[0m\u001b[0;34m\u001b[0m\u001b[0;34m\u001b[0m\u001b[0m\n\u001b[1;32m     12\u001b[0m   \u001b[0mGPIO\u001b[0m\u001b[0;34m.\u001b[0m\u001b[0moutput\u001b[0m\u001b[0;34m(\u001b[0m\u001b[0;36m17\u001b[0m\u001b[0;34m,\u001b[0m \u001b[0;32mFalse\u001b[0m\u001b[0;34m)\u001b[0m\u001b[0;34m\u001b[0m\u001b[0;34m\u001b[0m\u001b[0m\n\u001b[0;32m---> 13\u001b[0;31m   \u001b[0msleep\u001b[0m\u001b[0;34m(\u001b[0m\u001b[0;36m0.1\u001b[0m\u001b[0;34m)\u001b[0m\u001b[0;34m\u001b[0m\u001b[0;34m\u001b[0m\u001b[0m\n\u001b[0m",
      "\u001b[0;31mKeyboardInterrupt\u001b[0m: "
     ]
    }
   ],
   "source": [
    "import RPi.GPIO as GPIO\n",
    "\n",
    "from time import *\n",
    "\n",
    "\n",
    "print('Led Pin 17 deve piscar')\n",
    "GPIO.setmode(GPIO.BCM)\n",
    "GPIO.setup(17, GPIO.OUT)\n",
    "while True:\n",
    "  GPIO.output(17, True)\n",
    "  sleep(0.1)\n",
    "  GPIO.output(17, False)\n",
    "  sleep(0.1)\n"
   ]
  },
  {
   "cell_type": "code",
   "execution_count": null,
   "metadata": {},
   "outputs": [],
   "source": []
  }
 ],
 "metadata": {
  "kernelspec": {
   "display_name": "Python 3",
   "language": "python",
   "name": "python3"
  },
  "language_info": {
   "codemirror_mode": {
    "name": "ipython",
    "version": 3
   },
   "file_extension": ".py",
   "mimetype": "text/x-python",
   "name": "python",
   "nbconvert_exporter": "python",
   "pygments_lexer": "ipython3",
   "version": "3.7.3"
  }
 },
 "nbformat": 4,
 "nbformat_minor": 2
}
